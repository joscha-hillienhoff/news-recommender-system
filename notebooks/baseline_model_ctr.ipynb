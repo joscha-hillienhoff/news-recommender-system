{
 "cells": [
  {
   "cell_type": "markdown",
   "metadata": {},
   "source": [
    "# Setup Carbon Emissions Tracking"
   ]
  },
  {
   "cell_type": "code",
   "execution_count": null,
   "metadata": {},
   "outputs": [],
   "source": [
    "from news_recommender_system.carbon_tracking import CarbonTracker\n",
    "tracker = CarbonTracker(project_name=\"baseline\")\n",
    "tracker.start_tracking()"
   ]
  },
  {
   "cell_type": "markdown",
   "metadata": {},
   "source": [
    "# Implement baseline model"
   ]
  },
  {
   "cell_type": "code",
   "execution_count": null,
   "metadata": {},
   "outputs": [],
   "source": [
    "# Run CTR baseline in-process\n",
    "from news_recommender_system.modeling.baseline_ctr import generate_ctr_baseline_predictions\n",
    "import pandas as pd\n",
    "from news_recommender_system.config import INTERIM_DATA_DIR\n",
    "\n",
    "beh_train_val = pd.read_parquet(INTERIM_DATA_DIR / \"behaviors_train_val.parquet\")\n",
    "beh_val       = pd.read_parquet(INTERIM_DATA_DIR / \"behaviors_val.parquet\")\n",
    "\n",
    "generate_ctr_baseline_predictions(\n",
    "    behaviors_train_val=beh_train_val,\n",
    "    behaviors_val=beh_val,\n",
    "    time_window_seconds=24*3600,\n",
    "    output_file=\"prediction_val_baseline_ctr.txt\",\n",
    ")"
   ]
  },
  {
   "cell_type": "markdown",
   "metadata": {},
   "source": [
    "# Carbon Emissions Report"
   ]
  },
  {
   "cell_type": "code",
   "execution_count": null,
   "metadata": {},
   "outputs": [],
   "source": [
    "tracker.end_report()"
   ]
  },
  {
   "cell_type": "markdown",
   "metadata": {},
   "source": [
    "# Evaluate the model"
   ]
  },
  {
   "cell_type": "code",
   "execution_count": null,
   "metadata": {},
   "outputs": [],
   "source": [
    "from news_recommender_system.evaluation import evaluate_model\n",
    "from news_recommender_system.config import PROJ_ROOT\n",
    "\n",
    "truth_path = PROJ_ROOT / \"references\" / \"truth_files\" / \"truth_val.txt\"\n",
    "prediction_path = PROJ_ROOT / \"models\" / \"predictions\" / \"prediction_val_baseline_ctr.txt\"\n",
    "output_path = PROJ_ROOT / \"reports\" / \"metrics\" / \"scores_val_baseline_ctr.txt\"\n",
    "\n",
    "\n",
    "evaluate_model(truth_path, prediction_path, output_path)"
   ]
  }
 ],
 "metadata": {
  "kernelspec": {
   "display_name": ".venv",
   "language": "python",
   "name": "python3"
  },
  "language_info": {
   "codemirror_mode": {
    "name": "ipython",
    "version": 3
   },
   "file_extension": ".py",
   "mimetype": "text/x-python",
   "name": "python",
   "nbconvert_exporter": "python",
   "pygments_lexer": "ipython3",
   "version": "3.11.5"
  }
 },
 "nbformat": 4,
 "nbformat_minor": 2
}
